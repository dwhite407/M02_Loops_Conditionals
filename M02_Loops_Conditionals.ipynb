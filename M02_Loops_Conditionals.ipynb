{
 "cells": [
  {
   "cell_type": "code",
   "execution_count": 42,
   "id": "934f0b18-c845-4096-9d8a-5c861b513556",
   "metadata": {},
   "outputs": [
    {
     "name": "stdout",
     "output_type": "stream",
     "text": [
      "just right\n"
     ]
    }
   ],
   "source": [
    "#4.1\n",
    "guess_me = 7\n",
    "\n",
    "if (guess_me == 7):\n",
    "    print(\"just right\")\n",
    "elif (guess_me > 7):\n",
    "    print(\"too high\")\n",
    "else:\n",
    "    print(\"too low\")"
   ]
  },
  {
   "cell_type": "code",
   "execution_count": 54,
   "id": "f1432772-9390-4841-8a10-b10c881f0ed2",
   "metadata": {},
   "outputs": [
    {
     "name": "stdout",
     "output_type": "stream",
     "text": [
      "too low\n",
      "too low\n",
      "too low\n",
      "too low\n",
      "too low\n",
      "too low\n",
      "found it!\n"
     ]
    }
   ],
   "source": [
    "#4.2\n",
    "guess_me = 7\n",
    "start = 1\n",
    "\n",
    "while (True):\n",
    "    if (start == guess_me):\n",
    "        print(\"found it!\")\n",
    "        break\n",
    "    elif (start < guess_me):\n",
    "        print(\"too low\")\n",
    "        start += 1\n",
    "    else:\n",
    "        print(\"oops\")\n",
    "        break"
   ]
  },
  {
   "cell_type": "code",
   "execution_count": 56,
   "id": "3bfa8fd4-7be0-4124-9a5a-19616f3058c2",
   "metadata": {},
   "outputs": [
    {
     "name": "stdout",
     "output_type": "stream",
     "text": [
      "<class '__main__.Thing'>\n",
      "<__main__.Thing object at 0x124cfdd90>\n",
      "abc\n",
      "xyz\n"
     ]
    }
   ],
   "source": [
    "#6.1\n",
    "class Thing():\n",
    "    pass\n",
    "print(Thing)\n",
    "\n",
    "example = Thing()\n",
    "print(example)\n",
    "#The printed values are different\n",
    "#the first is <class '__main__.Thing'>\n",
    "#the second is <__main__.Thing object at 0x124cfcce0>\n",
    "\n",
    "#6.2\n",
    "class Thing2():\n",
    "    letters = \"abc\"\n",
    "print(Thing2.letters)\n",
    "#This prints letters without having to use an object\n",
    "\n",
    "#6.3\n",
    "class Thing3():\n",
    "    def __init__(self):\n",
    "        self.letters = \"xyz\"\n",
    "print(Thing3().letters)\n",
    "#yes you need to create an ovject from the class\n",
    "#to access letters, since we used the instance attribute\n",
    "#meaning that the letters is not "
   ]
  },
  {
   "cell_type": "markdown",
   "id": "9e7b3708-e19d-4ac2-85a4-ae39b1d180fe",
   "metadata": {},
   "source": [
    "6.1 Are the printed values the same or different?\n",
    "The printed values are different\n",
    "the first is <class '__main__.Thing'>\n",
    "the second is <__main__.Thing object at 0x124cfcce0>\n",
    "\n",
    "6.3 Do you need ot make an object from the class to do this?\n",
    "yes you need to create an ovject from the class\n",
    "to access letters, since we used the instance attribute\n",
    "meaning that the letters is not "
   ]
  }
 ],
 "metadata": {
  "kernelspec": {
   "display_name": "Python 3 (ipykernel)",
   "language": "python",
   "name": "python3"
  },
  "language_info": {
   "codemirror_mode": {
    "name": "ipython",
    "version": 3
   },
   "file_extension": ".py",
   "mimetype": "text/x-python",
   "name": "python",
   "nbconvert_exporter": "python",
   "pygments_lexer": "ipython3",
   "version": "3.12.4"
  }
 },
 "nbformat": 4,
 "nbformat_minor": 5
}
