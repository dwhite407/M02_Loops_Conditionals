{
 "cells": [
  {
   "cell_type": "code",
   "execution_count": 1,
   "id": "086169d2-7a49-4984-9731-f74de5507554",
   "metadata": {},
   "outputs": [
    {
     "name": "stdout",
     "output_type": "stream",
     "text": [
      "too low\n"
     ]
    }
   ],
   "source": [
    "#4.1\n",
    "secret = 7\n",
    "guess = 3\n",
    "\n",
    "if (guess == secret):\n",
    "    print(\"just right\")\n",
    "elif (guess > secret):\n",
    "    print(\"too high\")\n",
    "else:\n",
    "    print(\"too low\")"
   ]
  },
  {
   "cell_type": "code",
   "execution_count": 7,
   "id": "aca683b4-1295-4b45-9ed7-d7c7f862b7e0",
   "metadata": {},
   "outputs": [
    {
     "name": "stdout",
     "output_type": "stream",
     "text": [
      "pumpkin\n"
     ]
    }
   ],
   "source": [
    "#4.2\n",
    "small = False\n",
    "green = False\n",
    "\n",
    "if (small and green):\n",
    "    print(\"pea\")\n",
    "elif (small and not green):\n",
    "    print(\"cherry\")\n",
    "elif (green and not small):\n",
    "    print(\"watermelon\")\n",
    "else:\n",
    "    print(\"pumpkin\")\n"
   ]
  },
  {
   "cell_type": "code",
   "execution_count": 9,
   "id": "6154ad3a-4445-49f7-8fbb-43a8368c3224",
   "metadata": {},
   "outputs": [
    {
     "name": "stdout",
     "output_type": "stream",
     "text": [
      "3\n",
      "2\n",
      "1\n",
      "0\n"
     ]
    }
   ],
   "source": [
    "#6.1\n",
    "list = [3,2,1,0]\n",
    "for x in list:\n",
    "    print(x)"
   ]
  },
  {
   "cell_type": "code",
   "execution_count": 11,
   "id": "89237d9b-4772-45f8-947b-bdb11b1c62ab",
   "metadata": {},
   "outputs": [
    {
     "name": "stdout",
     "output_type": "stream",
     "text": [
      "too low\n",
      "too low\n",
      "too low\n",
      "too low\n",
      "too low\n",
      "too low\n",
      "found it!\n"
     ]
    }
   ],
   "source": [
    "#6.2\n",
    "guess_me = 7\n",
    "number = 1\n",
    "\n",
    "while (True):\n",
    "    if (number == guess_me):\n",
    "        print(\"found it!\")\n",
    "        break\n",
    "    elif (number < guess_me):\n",
    "        print(\"too low\")\n",
    "    else:\n",
    "        print(\"oops\")\n",
    "        break\n",
    "    number += 1"
   ]
  },
  {
   "cell_type": "code",
   "execution_count": 21,
   "id": "43d7e55a-2472-4a93-a93a-b15bf30a44fb",
   "metadata": {},
   "outputs": [
    {
     "name": "stdout",
     "output_type": "stream",
     "text": [
      "0 too low\n",
      "1 too low\n",
      "2 too low\n",
      "3 too low\n",
      "4 too low\n",
      "5 found it!\n"
     ]
    }
   ],
   "source": [
    "#6.3\n",
    "guess_me = 5\n",
    "for x in range(10):\n",
    "    if (x == guess_me):\n",
    "        print(x, \"found it!\")\n",
    "        break\n",
    "    elif (x < guess_me):\n",
    "        print(x, \"too low\")\n",
    "    else:\n",
    "        print(\"oops\")\n",
    "        break\n"
   ]
  },
  {
   "cell_type": "code",
   "execution_count": null,
   "id": "53391093-430a-496a-a03b-bf5d53bc5d60",
   "metadata": {},
   "outputs": [],
   "source": []
  }
 ],
 "metadata": {
  "kernelspec": {
   "display_name": "Python 3 (ipykernel)",
   "language": "python",
   "name": "python3"
  },
  "language_info": {
   "codemirror_mode": {
    "name": "ipython",
    "version": 3
   },
   "file_extension": ".py",
   "mimetype": "text/x-python",
   "name": "python",
   "nbconvert_exporter": "python",
   "pygments_lexer": "ipython3",
   "version": "3.12.4"
  }
 },
 "nbformat": 4,
 "nbformat_minor": 5
}
